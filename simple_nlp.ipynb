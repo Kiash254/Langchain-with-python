{
  "nbformat": 4,
  "nbformat_minor": 0,
  "metadata": {
    "colab": {
      "provenance": [],
      "gpuType": "T4"
    },
    "kernelspec": {
      "name": "python3",
      "display_name": "Python 3"
    },
    "language_info": {
      "name": "python"
    },
    "accelerator": "GPU"
  },
  "cells": [
    {
      "cell_type": "markdown",
      "source": [
        "*Here's a sample Python code for an NLP (Natural Language Processing) project that covers loading and preprocessing datasets, exploratory data analysis (EDA), model training, model evaluation, and building a predictive system. This example uses the IMDb movie reviews dataset to build a sentiment analysis model.*"
      ],
      "metadata": {
        "id": "wENojaNnuCqM"
      }
    },
    {
      "cell_type": "code",
      "source": [
        "# Import necessary libraries\n",
        "import numpy as np\n",
        "import pandas as pd\n",
        "import matplotlib.pyplot as plt\n",
        "import seaborn as sns\n",
        "import tensorflow as tf\n",
        "from tensorflow import keras\n",
        "from sklearn.model_selection import train_test_split\n",
        "from sklearn.metrics import accuracy_score, classification_report\n",
        "from tensorflow.keras.preprocessing.text import Tokenizer\n",
        "from tensorflow.keras.preprocessing.sequence import pad_sequences"
      ],
      "metadata": {
        "id": "Y9EGGOCKt-jH"
      },
      "execution_count": null,
      "outputs": []
    },
    {
      "cell_type": "code",
      "source": [
        "# In this example, we use the IMDb movie reviews dataset from Keras.\n",
        "imdb = keras.datasets.imdb\n",
        "(train_data, train_labels), (test_data, test_labels) = imdb.load_data(num_words=10000)  # We limit the vocabulary to 10,000 most common words.\n"
      ],
      "metadata": {
        "colab": {
          "base_uri": "https://localhost:8080/"
        },
        "id": "dNddni_9uK60",
        "outputId": "d1540221-37ba-469b-8b7b-5a094d191865"
      },
      "execution_count": null,
      "outputs": [
        {
          "output_type": "stream",
          "name": "stdout",
          "text": [
            "Downloading data from https://storage.googleapis.com/tensorflow/tf-keras-datasets/imdb.npz\n",
            "17464789/17464789 [==============================] - 1s 0us/step\n"
          ]
        }
      ]
    },
    {
      "cell_type": "code",
      "source": [
        "# Tokenize and pad the sequences\n",
        "max_sequence_length = 250  # Define the maximum sequence length\n",
        "train_data = keras.preprocessing.sequence.pad_sequences(train_data, maxlen=max_sequence_length)\n",
        "test_data = keras.preprocessing.sequence.pad_sequences(test_data, maxlen=max_sequence_length)\n"
      ],
      "metadata": {
        "id": "iI1p9Mujub2p"
      },
      "execution_count": null,
      "outputs": []
    },
    {
      "cell_type": "markdown",
      "source": [
        "*# EDA (Exploratory Data Analysi*"
      ],
      "metadata": {
        "id": "xxArBavOutKZ"
      }
    },
    {
      "cell_type": "code",
      "source": [
        "sequence_lengths = [len(seq) for seq in train_data]\n",
        "plt.figure(figsize=(10, 6))\n",
        "sns.histplot(sequence_lengths, bins=50)\n",
        "plt.title(\"Distribution of Sequence Lengths\")\n",
        "plt.xlabel(\"Sequence Length\")\n",
        "plt.ylabel(\"Frequency\")\n",
        "plt.show()\n"
      ],
      "metadata": {
        "colab": {
          "base_uri": "https://localhost:8080/",
          "height": 564
        },
        "id": "6rrVCrpGui9Y",
        "outputId": "ee48e7b7-f132-46a5-be7f-d9a0741bdf8c"
      },
      "execution_count": null,
      "outputs": [
        {
          "output_type": "display_data",
          "data": {
            "text/plain": [
              "<Figure size 1000x600 with 1 Axes>"
            ],
            "image/png": "[encoded data removed]"
          },
          "metadata": {}
        }
      ]
    },
    {
      "cell_type": "code",
      "source": [
        "# Define and train a simple LSTM-based sentiment analysis model\n",
        "model = keras.Sequential([\n",
        "    keras.layers.Embedding(10000, 16),\n",
        "    keras.layers.LSTM(64),\n",
        "    keras.layers.Dense(1, activation='sigmoid')\n",
        "])\n"
      ],
      "metadata": {
        "id": "JwBoj1CEuxZT"
      },
      "execution_count": null,
      "outputs": []
    },
    {
      "cell_type": "code",
      "source": [
        "model.compile(optimizer='adam', loss='binary_crossentropy', metrics=['accuracy'])\n",
        "model.summary()"
      ],
      "metadata": {
        "colab": {
          "base_uri": "https://localhost:8080/"
        },
        "id": "5h5jtLzXu14I",
        "outputId": "7b55dd87-9610-432e-d7b6-6b52b809b0b5"
      },
      "execution_count": null,
      "outputs": [
        {
          "output_type": "stream",
          "name": "stdout",
          "text": [
            "Model: \"sequential\"\n",
            "_________________________________________________________________\n",
            " Layer (type)                Output Shape              Param #   \n",
            "=================================================================\n",
            " embedding (Embedding)       (None, None, 16)          160000    \n",
            "                                                                 \n",
            " lstm (LSTM)                 (None, 64)                20736     \n",
            "                                                                 \n",
            " dense (Dense)               (None, 1)                 65        \n",
            "                                                                 \n",
            "=================================================================\n",
            "Total params: 180801 (706.25 KB)\n",
            "Trainable params: 180801 (706.25 KB)\n",
            "Non-trainable params: 0 (0.00 Byte)\n",
            "_________________________________________________________________\n"
          ]
        }
      ]
    },
    {
      "cell_type": "code",
      "source": [
        "# Split the dataset into training and validation sets\n",
        "X_train, X_val, y_train, y_val = train_test_split(train_data, train_labels, test_size=0.2, random_state=42)\n"
      ],
      "metadata": {
        "id": "mngeLLI9u7By"
      },
      "execution_count": null,
      "outputs": []
    },
    {
      "cell_type": "code",
      "source": [
        "# Train the model\n",
        "history = model.fit(X_train, y_train, epochs=10, batch_size=128, validation_data=(X_val, y_val))\n"
      ],
      "metadata": {
        "colab": {
          "base_uri": "https://localhost:8080/"
        },
        "id": "CfbXsxaxu_mB",
        "outputId": "4143ee64-22e1-4097-9888-26ad4c431fc6"
      },
      "execution_count": null,
      "outputs": [
        {
          "output_type": "stream",
          "name": "stdout",
          "text": [
            "Epoch 1/10\n",
            "157/157 [==============================] - 46s 246ms/step - loss: 0.5307 - accuracy: 0.7165 - val_loss: 0.3418 - val_accuracy: 0.8576\n",
            "Epoch 2/10\n",
            "157/157 [==============================] - 29s 180ms/step - loss: 0.2737 - accuracy: 0.8928 - val_loss: 0.2925 - val_accuracy: 0.8836\n",
            "Epoch 3/10\n",
            "157/157 [==============================] - 12s 78ms/step - loss: 0.1960 - accuracy: 0.9291 - val_loss: 0.2894 - val_accuracy: 0.8790\n",
            "Epoch 4/10\n",
            "157/157 [==============================] - 11s 71ms/step - loss: 0.1491 - accuracy: 0.9486 - val_loss: 0.3048 - val_accuracy: 0.8678\n",
            "Epoch 5/10\n",
            "157/157 [==============================] - 6s 38ms/step - loss: 0.1169 - accuracy: 0.9615 - val_loss: 0.3753 - val_accuracy: 0.8734\n",
            "Epoch 6/10\n",
            "157/157 [==============================] - 9s 57ms/step - loss: 0.0959 - accuracy: 0.9676 - val_loss: 0.4381 - val_accuracy: 0.8682\n",
            "Epoch 7/10\n",
            "157/157 [==============================] - 5s 32ms/step - loss: 0.0782 - accuracy: 0.9743 - val_loss: 0.5358 - val_accuracy: 0.8622\n",
            "Epoch 8/10\n",
            "157/157 [==============================] - 6s 38ms/step - loss: 0.0826 - accuracy: 0.9721 - val_loss: 0.4634 - val_accuracy: 0.8504\n",
            "Epoch 9/10\n",
            "157/157 [==============================] - 4s 24ms/step - loss: 0.0592 - accuracy: 0.9814 - val_loss: 0.4593 - val_accuracy: 0.8540\n",
            "Epoch 10/10\n",
            "157/157 [==============================] - 4s 26ms/step - loss: 0.0505 - accuracy: 0.9840 - val_loss: 0.5481 - val_accuracy: 0.8582\n"
          ]
        }
      ]
    },
    {
      "cell_type": "code",
      "source": [
        "# Model evaluation\n",
        "test_loss, test_accuracy = model.evaluate(test_data, test_labels)\n",
        "print(f\"Test Accuracy: {test_accuracy * 100:.2f}%\")\n"
      ],
      "metadata": {
        "colab": {
          "base_uri": "https://localhost:8080/"
        },
        "id": "Nm-1em94vGet",
        "outputId": "9c26a203-5ab8-44ab-95db-d4ce0c9fe207"
      },
      "execution_count": null,
      "outputs": [
        {
          "output_type": "stream",
          "name": "stdout",
          "text": [
            "782/782 [==============================] - 6s 8ms/step - loss: 0.5848 - accuracy: 0.8463\n",
            "Test Accuracy: 84.63%\n"
          ]
        }
      ]
    },
    {
      "cell_type": "code",
      "source": [
        "# Classification report\n",
        "y_pred = (model.predict(test_data) > 0.5).astype(\"int32\")\n",
        "print(classification_report(test_labels, y_pred))\n"
      ],
      "metadata": {
        "colab": {
          "base_uri": "https://localhost:8080/"
        },
        "id": "QXa9yA37vNGK",
        "outputId": "77331417-bd7c-4405-a732-187f99274d16"
      },
      "execution_count": null,
      "outputs": [
        {
          "output_type": "stream",
          "name": "stdout",
          "text": [
            "782/782 [==============================] - 4s 5ms/step\n",
            "              precision    recall  f1-score   support\n",
            "\n",
            "           0       0.82      0.89      0.85     12500\n",
            "           1       0.88      0.80      0.84     12500\n",
            "\n",
            "    accuracy                           0.85     25000\n",
            "   macro avg       0.85      0.85      0.85     25000\n",
            "weighted avg       0.85      0.85      0.85     25000\n",
            "\n"
          ]
        }
      ]
    },
    {
      "cell_type": "code",
      "source": [
        "# Create a predictive system\n",
        "def predict_sentiment(review, model, tokenizer, max_length):\n",
        "    review = [review]\n",
        "    review = tokenizer.texts_to_sequences(review)\n",
        "    review = pad_sequences(review, maxlen=max_length)\n",
        "    sentiment = \"Positive\" if model.predict(review) > 0.5 else \"Negative\"\n",
        "    return sentiment"
      ],
      "metadata": {
        "id": "P67S-ZrEvPmy"
      },
      "execution_count": null,
      "outputs": []
    },
    {
      "cell_type": "code",
      "source": [
        "# Example usage of the predictive system\n",
        "example_review = \"Hello\"\n",
        "sentiment = predict_sentiment(example_review, model, Tokenizer(), max_sequence_length)\n",
        "print(f\"Predicted Sentiment: {sentiment}\")"
      ],
      "metadata": {
        "colab": {
          "base_uri": "https://localhost:8080/"
        },
        "id": "9AzEvUMivSYO",
        "outputId": "72bdbba8-a68e-4be5-f148-78bb682d620e"
      },
      "execution_count": null,
      "outputs": [
        {
          "output_type": "stream",
          "name": "stdout",
          "text": [
            "1/1 [==============================] - 0s 30ms/step\n",
            "Predicted Sentiment: Negative\n"
          ]
        }
      ]
    },
    {
      "cell_type": "code",
      "source": [],
      "metadata": {
        "id": "LkAa3Q8Cv6sw"
      },
      "execution_count": null,
      "outputs": []
    }
  ]
}