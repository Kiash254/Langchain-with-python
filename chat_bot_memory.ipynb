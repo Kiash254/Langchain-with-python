{
  "nbformat": 4,
  "nbformat_minor": 0,
  "metadata": {
    "colab": {
      "provenance": [],
      "gpuType": "T4"
    },
    "kernelspec": {
      "name": "python3",
      "display_name": "Python 3"
    },
    "language_info": {
      "name": "python"
    },
    "accelerator": "GPU"
  },
  "cells": [
    {
      "cell_type": "code",
      "execution_count": 1,
      "metadata": {
        "id": "jh-UwPixIVTS"
      },
      "outputs": [],
      "source": [
        "!pip install chromadb==0.4.6 -qq\n",
        "!pip install pydantic==1.10 -qq\n",
        "!pip install sentence_transformers -qq"
      ]
    },
    {
      "cell_type": "code",
      "source": [
        "!pip install huggingface_hub -qq\n",
        "!pip install langchain -qq\n",
        "!pip install transformers -qq"
      ],
      "metadata": {
        "id": "ThBaTAwlJKfb"
      },
      "execution_count": 2,
      "outputs": []
    },
    {
      "cell_type": "code",
      "source": [
        "from langchain import HuggingFaceHub\n",
        "from langchain.chains import ConversationChain"
      ],
      "metadata": {
        "id": "wgYddXCRJsll"
      },
      "execution_count": 3,
      "outputs": []
    },
    {
      "cell_type": "code",
      "source": [
        "import getpass\n",
        "import os\n",
        "os.environ[\"HUGGING_FACE_HUB_API_KEY\"]=getpass.getpass(\"Hugging face API KEY\")"
      ],
      "metadata": {
        "colab": {
          "base_uri": "https://localhost:8080/"
        },
        "id": "2G7kHBd1KUCS",
        "outputId": "3110f1fa-962c-4b74-df6e-059fe67a466d"
      },
      "execution_count": 4,
      "outputs": [
        {
          "name": "stdout",
          "output_type": "stream",
          "text": [
            "Hugging face API KEY··········\n"
          ]
        }
      ]
    },
    {
      "cell_type": "code",
      "source": [
        "!pip install langchain==0.0.101 -qq"
      ],
      "metadata": {
        "id": "gBHLzwToSf8p"
      },
      "execution_count": 5,
      "outputs": []
    },
    {
      "cell_type": "code",
      "source": [
        "repo_id=\"lmsys/fastchat-t5-3b-v1.0\"\n",
        "llm=HuggingFaceHub(\n",
        "    huggingfacehub_api_token=os.environ[\"HUGGING_FACE_HUB_API_KEY\"],\n",
        "    repo_id=repo_id,\n",
        "    model_kwargs={'temperature': 1e-10,'max_length':64}\n",
        ")"
      ],
      "metadata": {
        "colab": {
          "base_uri": "https://localhost:8080/"
        },
        "id": "dnChnIh1LCoW",
        "outputId": "61e794c6-cfd9-4414-c696-41660ef8ba7f"
      },
      "execution_count": 6,
      "outputs": [
        {
          "output_type": "stream",
          "name": "stderr",
          "text": [
            "/usr/local/lib/python3.10/dist-packages/huggingface_hub/utils/_deprecation.py:127: FutureWarning: '__init__' (from 'huggingface_hub.inference_api') is deprecated and will be removed from version '0.19.0'. `InferenceApi` client is deprecated in favor of the more feature-complete `InferenceClient`. Check out this guide to learn how to convert your script to use it: https://huggingface.co/docs/huggingface_hub/guides/inference#legacy-inferenceapi-client.\n",
            "  warnings.warn(warning_message, FutureWarning)\n"
          ]
        }
      ]
    },
    {
      "cell_type": "code",
      "source": [
        "q1=\"hello chat my name Samuel kiando and i have some Question for you:\"\n",
        "q2=\"I live in kenya who is the first president of kenya\"\n",
        "q3=\"where does he or she lives\"\n",
        "q4=\"who is his or her vice president\""
      ],
      "metadata": {
        "id": "23Ow5WEAL7ra"
      },
      "execution_count": 7,
      "outputs": []
    },
    {
      "cell_type": "code",
      "source": [
        "from langchain.chains.conversation.memory import ConversationBufferMemory\n",
        "\n",
        "memory = ConversationBufferMemory()\n",
        "conversation_buf = ConversationChain(\n",
        "    llm=llm,\n",
        "    memory=memory)"
      ],
      "metadata": {
        "id": "SqwoMv3SNT9B"
      },
      "execution_count": 18,
      "outputs": []
    },
    {
      "cell_type": "code",
      "source": [
        "print(\"input: \",q1)\n",
        "conversation_buf.predict(input=q1)"
      ],
      "metadata": {
        "colab": {
          "base_uri": "https://localhost:8080/",
          "height": 53
        },
        "id": "ogR5HD8fWLfP",
        "outputId": "7f3e1aaa-a318-4ca7-f328-d4e93aef6442"
      },
      "execution_count": 19,
      "outputs": [
        {
          "output_type": "stream",
          "name": "stdout",
          "text": [
            "input:  hello chat my name Samuel kiando and i have some Question for you:\n"
          ]
        },
        {
          "output_type": "execute_result",
          "data": {
            "text/plain": [
              "'<pad> Hello  Samuel,  how  can  I  assist  you  today?\\n'"
            ],
            "application/vnd.google.colaboratory.intrinsic+json": {
              "type": "string"
            }
          },
          "metadata": {},
          "execution_count": 19
        }
      ]
    },
    {
      "cell_type": "code",
      "source": [
        "print(\"input: \",q2)\n",
        "conversation_buf.predict(input=q2)"
      ],
      "metadata": {
        "colab": {
          "base_uri": "https://localhost:8080/",
          "height": 53
        },
        "id": "tObgQCidWP3I",
        "outputId": "5d0bb22e-6491-4394-9fec-ebd8ed940717"
      },
      "execution_count": 20,
      "outputs": [
        {
          "output_type": "stream",
          "name": "stdout",
          "text": [
            "input:  I live in kenya who is the first president of kenya\n"
          ]
        },
        {
          "output_type": "execute_result",
          "data": {
            "text/plain": [
              "'<pad> < pad>  The  first  president  of  Kenya  was  John  Ruto.\\n'"
            ],
            "application/vnd.google.colaboratory.intrinsic+json": {
              "type": "string"
            }
          },
          "metadata": {},
          "execution_count": 20
        }
      ]
    },
    {
      "cell_type": "code",
      "source": [
        "print(\"input: \",q3)\n",
        "conversation_buf.predict(input=q3)"
      ],
      "metadata": {
        "colab": {
          "base_uri": "https://localhost:8080/",
          "height": 53
        },
        "id": "d_CafA03WaEf",
        "outputId": "4f081fc2-8b1d-4c1f-8e93-3cf961d25c1e"
      },
      "execution_count": 21,
      "outputs": [
        {
          "output_type": "stream",
          "name": "stdout",
          "text": [
            "input:  where does he or she lives\n"
          ]
        },
        {
          "output_type": "execute_result",
          "data": {
            "text/plain": [
              "'<pad>`< pad>\\n`` pad>  The  current  president  of  Kenya  is  Uhuru  Kenyatta.\\n'"
            ],
            "application/vnd.google.colaboratory.intrinsic+json": {
              "type": "string"
            }
          },
          "metadata": {},
          "execution_count": 21
        }
      ]
    },
    {
      "cell_type": "code",
      "source": [
        "print(\"input: \",q4)\n",
        "conversation_buf.predict(input=q4)"
      ],
      "metadata": {
        "colab": {
          "base_uri": "https://localhost:8080/",
          "height": 53
        },
        "id": "zld9DTinWjPu",
        "outputId": "ee539a92-d3ff-44dc-8d1d-5ad629015315"
      },
      "execution_count": 22,
      "outputs": [
        {
          "output_type": "stream",
          "name": "stdout",
          "text": [
            "input:  who is his or her vice president\n"
          ]
        },
        {
          "output_type": "execute_result",
          "data": {
            "text/plain": [
              "'<pad>`< pad>\\n < pad>\\n << pad>\\n The  vice  president  of  Kenya  is  William  Ruto.\\n'"
            ],
            "application/vnd.google.colaboratory.intrinsic+json": {
              "type": "string"
            }
          },
          "metadata": {},
          "execution_count": 22
        }
      ]
    },
    {
      "cell_type": "code",
      "source": [
        "print(memory.buffer)"
      ],
      "metadata": {
        "colab": {
          "base_uri": "https://localhost:8080/"
        },
        "id": "tCDmpwnkW_Wy",
        "outputId": "98405b81-363c-468d-9120-ca02569d4799"
      },
      "execution_count": 23,
      "outputs": [
        {
          "output_type": "stream",
          "name": "stdout",
          "text": [
            "\n",
            "Human: hello chat my name Samuel kiando and i have some Question for you:\n",
            "AI: <pad> Hello  Samuel,  how  can  I  assist  you  today?\n",
            "\n",
            "Human: I live in kenya who is the first president of kenya\n",
            "AI: <pad> < pad>  The  first  president  of  Kenya  was  John  Ruto.\n",
            "\n",
            "Human: where does he or she lives\n",
            "AI: <pad>`< pad>\n",
            "`` pad>  The  current  president  of  Kenya  is  Uhuru  Kenyatta.\n",
            "\n",
            "Human: who is his or her vice president\n",
            "AI: <pad>`< pad>\n",
            " < pad>\n",
            " << pad>\n",
            " The  vice  president  of  Kenya  is  William  Ruto.\n",
            "\n"
          ]
        }
      ]
    },
    {
      "cell_type": "code",
      "source": [
        "print(\"Hello kiash Happy to see you using pretained models\")"
      ],
      "metadata": {
        "colab": {
          "base_uri": "https://localhost:8080/"
        },
        "id": "uvHI-zIxXC-1",
        "outputId": "570547b6-4305-465a-e35e-687b1ef0331a"
      },
      "execution_count": 25,
      "outputs": [
        {
          "output_type": "stream",
          "name": "stdout",
          "text": [
            "Hello kiash Happy to see you using pretained models\n"
          ]
        }
      ]
    },
    {
      "cell_type": "code",
      "source": [],
      "metadata": {
        "id": "VzElYSTRXKQb"
      },
      "execution_count": null,
      "outputs": []
    }
  ]
}