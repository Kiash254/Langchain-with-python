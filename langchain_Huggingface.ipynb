{
  "cells": [
    {
      "cell_type": "markdown",
      "metadata": {
        "id": "gwUJgVT03V10"
      },
      "source": []
    },
    {
      "cell_type": "code",
      "execution_count": 4,
      "metadata": {
        "colab": {
          "base_uri": "https://localhost:8080/"
        },
        "id": "UshRjmnT2_lW",
        "outputId": "62a72200-2641-41ac-ff8c-16c1f48fe82d"
      },
      "outputs": [
        {
          "name": "stdout",
          "output_type": "stream",
          "text": [
            "\u001b[2K     \u001b[90m━━━━━━━━━━━━━━━━━━━━━━━━━━━━━━━━━━━━━━━━\u001b[0m \u001b[32m1.9/1.9 MB\u001b[0m \u001b[31m18.6 MB/s\u001b[0m eta \u001b[36m0:00:00\u001b[0m\n",
            "\u001b[2K     \u001b[90m━━━━━━━━━━━━━━━━━━━━━━━━━━━━━━━━━━━━━━━━\u001b[0m \u001b[32m302.0/302.0 kB\u001b[0m \u001b[31m24.1 MB/s\u001b[0m eta \u001b[36m0:00:00\u001b[0m\n",
            "\u001b[2K     \u001b[90m━━━━━━━━━━━━━━━━━━━━━━━━━━━━━━━━━━━━━━━━\u001b[0m \u001b[32m7.7/7.7 MB\u001b[0m \u001b[31m92.7 MB/s\u001b[0m eta \u001b[36m0:00:00\u001b[0m\n",
            "\u001b[2K     \u001b[90m━━━━━━━━━━━━━━━━━━━━━━━━━━━━━━━━━━━━━━━━\u001b[0m \u001b[32m86.0/86.0 kB\u001b[0m \u001b[31m8.9 MB/s\u001b[0m eta \u001b[36m0:00:00\u001b[0m\n",
            "\u001b[?25h  Preparing metadata (setup.py) ... \u001b[?25l\u001b[?25hdone\n",
            "\u001b[2K     \u001b[90m━━━━━━━━━━━━━━━━━━━━━━━━━━━━━━━━━━━━━━━━\u001b[0m \u001b[32m40.1/40.1 kB\u001b[0m \u001b[31m5.0 MB/s\u001b[0m eta \u001b[36m0:00:00\u001b[0m\n",
            "\u001b[2K     \u001b[90m━━━━━━━━━━━━━━━━━━━━━━━━━━━━━━━━━━━━━━━━\u001b[0m \u001b[32m3.8/3.8 MB\u001b[0m \u001b[31m92.1 MB/s\u001b[0m eta \u001b[36m0:00:00\u001b[0m\n",
            "\u001b[2K     \u001b[90m━━━━━━━━━━━━━━━━━━━━━━━━━━━━━━━━━━━━━━━━\u001b[0m \u001b[32m1.3/1.3 MB\u001b[0m \u001b[31m54.0 MB/s\u001b[0m eta \u001b[36m0:00:00\u001b[0m\n",
            "\u001b[2K     \u001b[90m━━━━━━━━━━━━━━━━━━━━━━━━━━━━━━━━━━━━━━━━\u001b[0m \u001b[32m1.3/1.3 MB\u001b[0m \u001b[31m60.3 MB/s\u001b[0m eta \u001b[36m0:00:00\u001b[0m\n",
            "\u001b[2K     \u001b[90m━━━━━━━━━━━━━━━━━━━━━━━━━━━━━━━━━━━━━━━━\u001b[0m \u001b[32m49.4/49.4 kB\u001b[0m \u001b[31m5.2 MB/s\u001b[0m eta \u001b[36m0:00:00\u001b[0m\n",
            "\u001b[2K     \u001b[90m━━━━━━━━━━━━━━━━━━━━━━━━━━━━━━━━━━━━━━━━\u001b[0m \u001b[32m295.0/295.0 kB\u001b[0m \u001b[31m28.5 MB/s\u001b[0m eta \u001b[36m0:00:00\u001b[0m\n",
            "\u001b[?25h  Building wheel for sentence_transformers (setup.py) ... \u001b[?25l\u001b[?25hdone\n"
          ]
        }
      ],
      "source": [
        "!pip install langchain huggingface_hub transformers sentence_transformers -qq"
      ]
    },
    {
      "cell_type": "markdown",
      "metadata": {
        "id": "V-umRaVr3xyV"
      },
      "source": [
        "**Hugging face API TOkes **"
      ]
    },
    {
      "cell_type": "code",
      "execution_count": 5,
      "metadata": {
        "id": "xi5ifhnx3jA6"
      },
      "outputs": [],
      "source": [
        "import os\n",
        "os.environ['HUGGINGFACEHUB_API_TOKEN']='Enter  your Hugging Face Access Token here'"
      ]
    },
    {
      "cell_type": "code",
      "execution_count": 28,
      "metadata": {
        "colab": {
          "base_uri": "https://localhost:8080/"
        },
        "id": "3L4hABkf4bt2",
        "outputId": "cc937d9e-5934-4da8-c6ad-7fbc1d0f9bda"
      },
      "outputs": [
        {
          "name": "stderr",
          "output_type": "stream",
          "text": [
            "/usr/local/lib/python3.10/dist-packages/huggingface_hub/utils/_deprecation.py:127: FutureWarning: '__init__' (from 'huggingface_hub.inference_api') is deprecated and will be removed from version '0.19.0'. `InferenceApi` client is deprecated in favor of the more feature-complete `InferenceClient`. Check out this guide to learn how to convert your script to use it: https://huggingface.co/docs/huggingface_hub/guides/inference#legacy-inferenceapi-client.\n",
            "  warnings.warn(warning_message, FutureWarning)\n"
          ]
        },
        {
          "name": "stdout",
          "output_type": "stream",
          "text": [
            "\n",
            "1. Divide the numerator (3) by the denominator (3)\n",
            "\n",
            "\n"
          ]
        }
      ],
      "source": [
        "from langchain import PromptTemplate, HuggingFaceHub, LLMChain\n",
        "\n",
        "template = \"\"\"\n",
        "Question: {question}\n",
        "Answer: Let's think step by step\n",
        "\"\"\"\n",
        "\n",
        "prompt = PromptTemplate(template=template, input_variables=[\"question\"])\n",
        "\n",
        "chan = LLMChain(\n",
        "    prompt=prompt,\n",
        "    llm=HuggingFaceHub(\n",
        "        repo_id=\"HuggingFaceH4/zephyr-7b-alpha\",  # Corrected model identifier\n",
        "        model_kwargs={\n",
        "            \"temperature\": 1.0,  # Corrected \"temparature\" to \"temperature\"\n",
        "            \"max_length\": 64\n",
        "        }\n",
        "    )\n",
        ")\n",
        "\n",
        "question = \"3 / 3\"\n",
        "print(chan.run(question))\n"
      ]
    },
    {
      "cell_type": "code",
      "execution_count": 29,
      "metadata": {
        "colab": {
          "base_uri": "https://localhost:8080/"
        },
        "id": "fAir7OSbA79O",
        "outputId": "4e852a9a-3218-483a-b15c-4d76476224c4"
      },
      "outputs": [
        {
          "name": "stdout",
          "output_type": "stream",
          "text": [
            "\n",
            "Question: Who is a boy?\n",
            "Answer: A boy is a human being.\n",
            "\n"
          ]
        }
      ],
      "source": [
        "question='Who is a boy'\n",
        "print(chan.run(question))"
      ]
    },
    {
      "cell_type": "code",
      "execution_count": 30,
      "metadata": {
        "colab": {
          "base_uri": "https://localhost:8080/"
        },
        "id": "6VSYyig5BGo3",
        "outputId": "035a9b78-a793-43a7-8574-71a2055b157f"
      },
      "outputs": [
        {
          "name": "stdout",
          "output_type": "stream",
          "text": [
            "\n",
            "1. What is the capital city of France?\n",
            "2. What is the name of the\n"
          ]
        }
      ],
      "source": [
        "question='What is the capital city of france'\n",
        "print(chan.run(question))"
      ]
    },
    {
      "cell_type": "code",
      "execution_count": 31,
      "metadata": {
        "colab": {
          "base_uri": "https://localhost:8080/"
        },
        "id": "ZpraFYrABZDD",
        "outputId": "701da6eb-c3e4-4da1-88c5-98abe2e85e31"
      },
      "outputs": [
        {
          "name": "stdout",
          "output_type": "stream",
          "text": [
            "\n",
            "1. What are the best growing parts in France?\n",
            "\n",
            "2. What are the factors\n"
          ]
        }
      ],
      "source": [
        "question='What are the best Growing parts in France'\n",
        "print(chan.run(question))"
      ]
    },
    {
      "cell_type": "code",
      "execution_count": 32,
      "metadata": {
        "colab": {
          "base_uri": "https://localhost:8080/"
        },
        "id": "kLh5uEceB1en",
        "outputId": "f7dbe24d-4e49-4482-a71a-44065b3ab16a"
      },
      "outputs": [
        {
          "name": "stdout",
          "output_type": "stream",
          "text": [
            "\n",
            "1. The Capital city of England is London.\n",
            "\n",
            "2. London is the capital city\n"
          ]
        }
      ],
      "source": [
        "question='The Capital city of England is'\n",
        "print(chan.run(question))"
      ]
    },
    {
      "cell_type": "code",
      "execution_count": 33,
      "metadata": {
        "colab": {
          "base_uri": "https://localhost:8080/"
        },
        "id": "lqrq-2ZbB689",
        "outputId": "d1c65f12-b6cd-49f9-ea6b-3d437a46fc2c"
      },
      "outputs": [
        {
          "name": "stdout",
          "output_type": "stream",
          "text": [
            "\n",
            "Question: Who is a Rashford\n",
            "Answer: A footballer, a striker\n"
          ]
        }
      ],
      "source": [
        "question='Who is a Rashford'\n",
        "print(chan.run(question))"
      ]
    },
    {
      "cell_type": "code",
      "execution_count": 34,
      "metadata": {
        "colab": {
          "base_uri": "https://localhost:8080/"
        },
        "id": "dpRdk0GXB_8R",
        "outputId": "b02a1468-5b4b-4d4b-ca34-8afae3d9d2cf"
      },
      "outputs": [
        {
          "name": "stdout",
          "output_type": "stream",
          "text": [
            "\n",
            "1. Ronaldo is a person.\n",
            "2. Ronaldo is a famous person\n"
          ]
        }
      ],
      "source": [
        "question='Who is Ronaldo'\n",
        "print(chan.run(question))"
      ]
    },
    {
      "cell_type": "code",
      "execution_count": 35,
      "metadata": {
        "colab": {
          "base_uri": "https://localhost:8080/"
        },
        "id": "8ZN60ec0CD1c",
        "outputId": "a96928a1-a4ef-4944-bebd-ea9255efde63"
      },
      "outputs": [
        {
          "name": "stdout",
          "output_type": "stream",
          "text": [
            "\n",
            "1. Bruno Fernandes is a football player.\n",
            "2. He plays for Manchester United\n"
          ]
        }
      ],
      "source": [
        "question='Who is Bruno Fernades'\n",
        "print(chan.run(question))"
      ]
    },
    {
      "cell_type": "code",
      "execution_count": 36,
      "metadata": {
        "colab": {
          "base_uri": "https://localhost:8080/"
        },
        "id": "mWRP8565CIlv",
        "outputId": "444216a4-7ad8-4925-9952-9d2b6ca1e23d"
      },
      "outputs": [
        {
          "name": "stdout",
          "output_type": "stream",
          "text": [
            "\n",
            "Question: Who is Eric Ten Hag\n",
            "Answer: He is a Dutch football manager\n",
            "\n"
          ]
        }
      ],
      "source": [
        "question='Who is Eric Ten Hag'\n",
        "print(chan.run(question))"
      ]
    },
    {
      "cell_type": "code",
      "execution_count": 38,
      "metadata": {
        "colab": {
          "base_uri": "https://localhost:8080/"
        },
        "id": "dOAKWUARCNUF",
        "outputId": "8916d782-83e3-401b-bfae-755ebabb02f1"
      },
      "outputs": [
        {
          "name": "stdout",
          "output_type": "stream",
          "text": [
            "\n",
            "1. Manchester United is a football club based in Manchester, England.\n",
            "\n",
            "2. The\n"
          ]
        }
      ],
      "source": [
        "question='Where is manchester united and who is the captian of the team'\n",
        "print(chan.run(question))"
      ]
    },
    {
      "cell_type": "code",
      "execution_count": 40,
      "metadata": {
        "colab": {
          "base_uri": "https://localhost:8080/"
        },
        "id": "sYtB4YjWCVUT",
        "outputId": "2d7ef30b-1de6-4268-feef-6da0c3721c21"
      },
      "outputs": [
        {
          "name": "stdout",
          "output_type": "stream",
          "text": [
            "\n",
            "1. Kenya is a country.\n",
            "2. It is located in Africa.\n",
            "3.\n"
          ]
        }
      ],
      "source": [
        "question='Where is kenya kenya located'\n",
        "print(chan.run(question))"
      ]
    },
    {
      "cell_type": "code",
      "execution_count": 41,
      "metadata": {
        "colab": {
          "base_uri": "https://localhost:8080/"
        },
        "id": "EXF1iqBYElaY",
        "outputId": "faaa2956-dd79-4f58-a9cc-f3bda9156236"
      },
      "outputs": [
        {
          "name": "stdout",
          "output_type": "stream",
          "text": [
            "\n",
            "1. Kenya is a country in Africa.\n",
            "2. It is located on the east coast\n"
          ]
        }
      ],
      "source": [
        "question='Where is kenya and who is the first president of kenya ?'\n",
        "print(chan.run(question))"
      ]
    },
    {
      "cell_type": "code",
      "execution_count": 42,
      "metadata": {
        "colab": {
          "base_uri": "https://localhost:8080/"
        },
        "id": "tpcga2tnEskI",
        "outputId": "d70015fb-7836-4ca1-eed6-e5ffe9ee2af5"
      },
      "outputs": [
        {
          "name": "stdout",
          "output_type": "stream",
          "text": [
            "\n",
            "1. The President is the head of the executive branch of the government.\n",
            "2. The\n"
          ]
        }
      ],
      "source": [
        "question='president is'\n",
        "print(chan.run(question))"
      ]
    },
    {
      "cell_type": "code",
      "execution_count": null,
      "metadata": {
        "id": "oaKWBwX2E6jV"
      },
      "outputs": [],
      "source": []
    }
  ],
  "metadata": {
    "colab": {
      "gpuType": "T4",
      "provenance": []
    },
    "kernelspec": {
      "display_name": "Python 3",
      "name": "python3"
    },
    "language_info": {
      "name": "python"
    }
  },
  "nbformat": 4,
  "nbformat_minor": 0
}
